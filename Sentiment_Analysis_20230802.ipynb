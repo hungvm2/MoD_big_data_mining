{
 "cells": [
  {
   "cell_type": "code",
   "execution_count": 1,
   "metadata": {
    "colab": {
     "base_uri": "https://localhost:8080/"
    },
    "id": "5E3owmC9E2gA",
    "outputId": "07daad8c-ad6c-4c68-a66d-b69c05d38dfb"
   },
   "outputs": [],
   "source": [
    "# from google.colab import drive\n",
    "# drive.mount('/content/drive')"
   ]
  },
  {
   "cell_type": "code",
   "execution_count": 2,
   "metadata": {
    "colab": {
     "base_uri": "https://localhost:8080/"
    },
    "id": "35vWPu92FK59",
    "outputId": "1b7e7b5e-95aa-4e41-a3ff-00f43512bd69"
   },
   "outputs": [],
   "source": [
    "# !nvidia-smi"
   ]
  },
  {
   "cell_type": "code",
   "execution_count": 3,
   "metadata": {
    "id": "Sleac40vFhJW"
   },
   "outputs": [],
   "source": [
    "# import os\n",
    "# os.chdir('/content/drive/MyDrive/Twitter')"
   ]
  },
  {
   "cell_type": "code",
   "execution_count": 4,
   "metadata": {
    "id": "sLYbb0O2dhlD"
   },
   "outputs": [],
   "source": [
    "# !apt-get install openjdk-8-jdk-headless\n",
    "# !wget https://dlcdn.apache.org/spark/spark-3.4.1/spark-3.4.1-bin-hadoop3.tgz\n",
    "# !tar xf spark-3.4.1-bin-hadoop3.tgz"
   ]
  },
  {
   "cell_type": "code",
   "execution_count": 5,
   "metadata": {
    "colab": {
     "base_uri": "https://localhost:8080/"
    },
    "id": "xWgbINsAdkwL",
    "outputId": "39a95083-ec2f-49fc-f3d1-e7fa8834bb78"
   },
   "outputs": [],
   "source": [
    "# !pip install pyspark"
   ]
  },
  {
   "cell_type": "code",
   "execution_count": 6,
   "metadata": {
    "id": "zhdYaI2LdsS7"
   },
   "outputs": [],
   "source": [
    "# !pip install findspark"
   ]
  },
  {
   "cell_type": "code",
   "execution_count": 7,
   "metadata": {
    "id": "sv0_ljpud5T8"
   },
   "outputs": [],
   "source": [
    "# import findspark\n",
    "# findspark.init()\n",
    "import pyspark as ps\n",
    "import warnings\n",
    "from pyspark.sql import SQLContext\n",
    "from pyspark.sql.types import *\n",
    "from pyspark.sql import SparkSession\n",
    "from pyspark.sql.functions import *\n",
    "# import pandas as pd\n",
    "# import pyspark.pandas as ps\n",
    "import numpy as np\n",
    "import time\n",
    "\n",
    "from pyspark.ml.feature import Tokenizer, RegexTokenizer, StopWordsRemover, CountVectorizer, IDF, StringIndexer, Word2Vec\n",
    "from nltk.stem.snowball import SnowballStemmer\n",
    "\n",
    "from pyspark.ml.classification import LogisticRegression\n",
    "\n",
    "from pyspark.ml.evaluation import BinaryClassificationEvaluator"
   ]
  },
  {
   "cell_type": "markdown",
   "metadata": {
    "id": "sok3x6qSwdWm"
   },
   "source": [
    "**1. Đọc dữ liệu vào**"
   ]
  },
  {
   "cell_type": "code",
   "execution_count": 8,
   "metadata": {
    "colab": {
     "base_uri": "https://localhost:8080/"
    },
    "id": "jC_oUkX5d9y7",
    "outputId": "b0664f76-9698-4ffb-fbd9-926f7e77fa5d"
   },
   "outputs": [
    {
     "name": "stderr",
     "output_type": "stream",
     "text": [
      "23/08/02 23:02:42 WARN Utils: Your hostname, MacBook-Pro-cua-awlvn.local resolves to a loopback address: 127.0.0.1; using 192.168.1.9 instead (on interface en0)\n",
      "23/08/02 23:02:42 WARN Utils: Set SPARK_LOCAL_IP if you need to bind to another address\n",
      "Setting default log level to \"WARN\".\n",
      "To adjust logging level use sc.setLogLevel(newLevel). For SparkR, use setLogLevel(newLevel).\n",
      "23/08/02 23:02:43 WARN NativeCodeLoader: Unable to load native-hadoop library for your platform... using builtin-java classes where applicable\n"
     ]
    },
    {
     "name": "stdout",
     "output_type": "stream",
     "text": [
      "root\n",
      " |-- target: integer (nullable = true)\n",
      " |-- id: integer (nullable = true)\n",
      " |-- date: date (nullable = true)\n",
      " |-- flag: string (nullable = true)\n",
      " |-- user: string (nullable = true)\n",
      " |-- text: string (nullable = true)\n",
      "\n"
     ]
    }
   ],
   "source": [
    "spark = SparkSession.builder\\\n",
    "        .master(\"local\")\\\n",
    "        .appName('Sentiment Analysis')\\\n",
    "        .getOrCreate()\n",
    "\n",
    "schema = StructType([\\\n",
    "                    StructField(\"target\", IntegerType(), True),\\\n",
    "                    StructField(\"id\", IntegerType(), True),\\\n",
    "                    StructField(\"date\", DateType(), True),\\\n",
    "                    StructField(\"flag\", StringType(), True),\\\n",
    "                    StructField(\"user\", StringType(), True),\\\n",
    "                    StructField(\"text\", StringType(), True)])\n",
    "\n",
    "df = spark.read.csv('training.1600000.processed.noemoticon.csv', sep=',', header=False, schema=schema)\n",
    "df.printSchema()"
   ]
  },
  {
   "cell_type": "code",
   "execution_count": 9,
   "metadata": {
    "colab": {
     "base_uri": "https://localhost:8080/"
    },
    "id": "ZfXA9GI5n5lv",
    "outputId": "ea62fa7b-56a9-42d7-ae07-5102b89c33b8"
   },
   "outputs": [
    {
     "name": "stderr",
     "output_type": "stream",
     "text": [
      "\r",
      "[Stage 0:>                                                          (0 + 1) / 1]\r"
     ]
    },
    {
     "name": "stdout",
     "output_type": "stream",
     "text": [
      "+------+----------+----+--------+---------------+--------------------+\n",
      "|target|        id|date|    flag|           user|                text|\n",
      "+------+----------+----+--------+---------------+--------------------+\n",
      "|     0|1467810369|null|NO_QUERY|_TheSpecialOne_|@switchfoot http:...|\n",
      "|     0|1467810672|null|NO_QUERY|  scotthamilton|is upset that he ...|\n",
      "|     0|1467810917|null|NO_QUERY|       mattycus|@Kenichan I dived...|\n",
      "|     0|1467811184|null|NO_QUERY|        ElleCTF|my whole body fee...|\n",
      "|     0|1467811193|null|NO_QUERY|         Karoli|@nationwideclass ...|\n",
      "+------+----------+----+--------+---------------+--------------------+\n",
      "only showing top 5 rows\n",
      "\n"
     ]
    },
    {
     "name": "stderr",
     "output_type": "stream",
     "text": [
      "\r",
      "                                                                                \r"
     ]
    }
   ],
   "source": [
    "df.show(5)"
   ]
  },
  {
   "cell_type": "code",
   "execution_count": 10,
   "metadata": {
    "colab": {
     "base_uri": "https://localhost:8080/"
    },
    "id": "5B7liih-oSzR",
    "outputId": "788055cc-3cb7-4ada-ba64-71fa75d2266c"
   },
   "outputs": [
    {
     "data": {
      "text/plain": [
       "Row(target=0, id=1467810369, date=None, flag='NO_QUERY', user='_TheSpecialOne_', text=\"@switchfoot http://twitpic.com/2y1zl - Awww, that's a bummer.  You shoulda got David Carr of Third Day to do it. ;D\")"
      ]
     },
     "execution_count": 10,
     "metadata": {},
     "output_type": "execute_result"
    }
   ],
   "source": [
    "df.head()"
   ]
  },
  {
   "cell_type": "markdown",
   "metadata": {
    "id": "5RjXSgyRwkMs"
   },
   "source": [
    "**2. Tiền xử lý**"
   ]
  },
  {
   "cell_type": "code",
   "execution_count": 11,
   "metadata": {
    "colab": {
     "base_uri": "https://localhost:8080/"
    },
    "id": "m8-0x8QQooKC",
    "outputId": "cc88000b-cf54-40c9-b33d-1e4aacae8d86"
   },
   "outputs": [
    {
     "name": "stderr",
     "output_type": "stream",
     "text": [
      "[Stage 2:=============================>                             (1 + 1) / 2]\r"
     ]
    },
    {
     "name": "stdout",
     "output_type": "stream",
     "text": [
      "+------+------+\n",
      "|target| count|\n",
      "+------+------+\n",
      "|     4|800000|\n",
      "|     0|800000|\n",
      "+------+------+\n",
      "\n"
     ]
    },
    {
     "name": "stderr",
     "output_type": "stream",
     "text": [
      "\r",
      "                                                                                \r"
     ]
    }
   ],
   "source": [
    "df.groupBy(\"target\").count().show()"
   ]
  },
  {
   "cell_type": "markdown",
   "metadata": {
    "id": "zu3XkCYuspL_"
   },
   "source": [
    "=> như vậy dữ liệu tích cực (target=4) và tiêu cực (target=0) là cân bằng, không có trường hợp nào target null cần xử lý"
   ]
  },
  {
   "cell_type": "markdown",
   "metadata": {
    "id": "UeRA0lVZxose"
   },
   "source": [
    "Chỉ quan tâm đến các trường dùng để đánh giá (id, target, text)"
   ]
  },
  {
   "cell_type": "code",
   "execution_count": 12,
   "metadata": {
    "id": "nnVTKDsJuEc2"
   },
   "outputs": [],
   "source": [
    "df1 = df.select(\"id\", \"target\", \"text\")"
   ]
  },
  {
   "cell_type": "code",
   "execution_count": 38,
   "metadata": {
    "colab": {
     "base_uri": "https://localhost:8080/"
    },
    "id": "PSnxfvkxzUGC",
    "outputId": "cbe03691-02a1-416c-84b2-ab807de1ca22"
   },
   "outputs": [
    {
     "data": {
      "text/plain": [
       "Row(id=1467810369, target=0, text=\"@switchfoot http://twitpic.com/2y1zl - Awww, that's a bummer.  You shoulda got David Carr of Third Day to do it. ;D\", newtext='switchfoot httptwitpiccomyzl  awww thats a bummer  you shoulda got david carr of third day to do it d')"
      ]
     },
     "execution_count": 38,
     "metadata": {},
     "output_type": "execute_result"
    }
   ],
   "source": [
    "df_clean = df1.select('*', (lower(regexp_replace('text', \"[^a-zA-Z\\\\s]\", \"\")).alias('newtext')))\n",
    "df_clean.head()"
   ]
  },
  {
   "cell_type": "code",
   "execution_count": 39,
   "metadata": {
    "colab": {
     "base_uri": "https://localhost:8080/"
    },
    "id": "39Tx7p7Gzizq",
    "outputId": "3886d307-1b6a-431f-e53f-8075146022b5",
    "scrolled": true
   },
   "outputs": [
    {
     "data": {
      "text/plain": [
       "Row(id=1467810369, target=0, text=\"@switchfoot http://twitpic.com/2y1zl - Awww, that's a bummer.  You shoulda got David Carr of Third Day to do it. ;D\", newtext='switchfoot httptwitpiccomyzl  awww thats a bummer  you shoulda got david carr of third day to do it d', tokens=['switchfoot', 'httptwitpiccomyzl', '', 'awww', 'thats', 'a', 'bummer', '', 'you', 'shoulda', 'got', 'david', 'carr', 'of', 'third', 'day', 'to', 'do', 'it', 'd'])"
      ]
     },
     "execution_count": 39,
     "metadata": {},
     "output_type": "execute_result"
    }
   ],
   "source": [
    "tokenizer = Tokenizer(inputCol='newtext', outputCol='tokens')\n",
    "df_tokens = tokenizer.transform(df_clean)\n",
    "df_tokens.head()"
   ]
  },
  {
   "cell_type": "code",
   "execution_count": 44,
   "metadata": {},
   "outputs": [],
   "source": [
    "filter_empty_udf = udf(lambda tokens: [token for token in tokens if len(token) > 0], ArrayType(StringType()))"
   ]
  },
  {
   "cell_type": "code",
   "execution_count": 45,
   "metadata": {},
   "outputs": [
    {
     "data": {
      "text/plain": [
       "Row(id=1467810369, target=0, text=\"@switchfoot http://twitpic.com/2y1zl - Awww, that's a bummer.  You shoulda got David Carr of Third Day to do it. ;D\", newtext='switchfoot httptwitpiccomyzl  awww thats a bummer  you shoulda got david carr of third day to do it d', tokens=['switchfoot', 'httptwitpiccomyzl', '', 'awww', 'thats', 'a', 'bummer', '', 'you', 'shoulda', 'got', 'david', 'carr', 'of', 'third', 'day', 'to', 'do', 'it', 'd'], no_empty=['switchfoot', 'httptwitpiccomyzl', 'awww', 'thats', 'a', 'bummer', 'you', 'shoulda', 'got', 'david', 'carr', 'of', 'third', 'day', 'to', 'do', 'it', 'd'])"
      ]
     },
     "execution_count": 45,
     "metadata": {},
     "output_type": "execute_result"
    }
   ],
   "source": [
    "df_no_empty = df_tokens.withColumn(\"no_empty\", filter_empty_udf(\"tokens\"))\n",
    "df_no_empty.head()"
   ]
  },
  {
   "cell_type": "code",
   "execution_count": null,
   "metadata": {},
   "outputs": [],
   "source": []
  },
  {
   "cell_type": "code",
   "execution_count": 47,
   "metadata": {
    "colab": {
     "base_uri": "https://localhost:8080/"
    },
    "id": "2lPp-qrj9qR_",
    "outputId": "48128cfd-134d-4973-bbd1-db856ea1eb73"
   },
   "outputs": [
    {
     "data": {
      "text/plain": [
       "Row(id=1467810369, target=0, text=\"@switchfoot http://twitpic.com/2y1zl - Awww, that's a bummer.  You shoulda got David Carr of Third Day to do it. ;D\", newtext='switchfoot httptwitpiccomyzl  awww thats a bummer  you shoulda got david carr of third day to do it d', tokens=['switchfoot', 'httptwitpiccomyzl', '', 'awww', 'thats', 'a', 'bummer', '', 'you', 'shoulda', 'got', 'david', 'carr', 'of', 'third', 'day', 'to', 'do', 'it', 'd'], no_empty=['switchfoot', 'httptwitpiccomyzl', 'awww', 'thats', 'a', 'bummer', 'you', 'shoulda', 'got', 'david', 'carr', 'of', 'third', 'day', 'to', 'do', 'it', 'd'], words_clean=['switchfoot', 'httptwitpiccomyzl', 'awww', 'thats', 'bummer', 'shoulda', 'got', 'david', 'carr', 'third', 'day', 'd'])"
      ]
     },
     "execution_count": 47,
     "metadata": {},
     "output_type": "execute_result"
    }
   ],
   "source": [
    "remover = StopWordsRemover(inputCol=\"no_empty\", outputCol=\"words_clean\")\n",
    "df_words_no_stopw = remover.transform(df_no_empty)\n",
    "df_words_no_stopw.head()"
   ]
  },
  {
   "cell_type": "markdown",
   "metadata": {
    "id": "kGR4thgc-CzD"
   },
   "source": [
    "Đưa các token về dạng từ gốc"
   ]
  },
  {
   "cell_type": "code",
   "execution_count": 48,
   "metadata": {
    "colab": {
     "base_uri": "https://localhost:8080/"
    },
    "id": "u7mnUHm29wix",
    "outputId": "d14d2981-1677-49bf-c991-0880b285a131"
   },
   "outputs": [
    {
     "name": "stderr",
     "output_type": "stream",
     "text": [
      "\r",
      "[Stage 59:>                                                         (0 + 1) / 1]\r",
      "\r",
      "                                                                                \r"
     ]
    },
    {
     "data": {
      "text/plain": [
       "Row(id=1467810369, target=0, text=\"@switchfoot http://twitpic.com/2y1zl - Awww, that's a bummer.  You shoulda got David Carr of Third Day to do it. ;D\", newtext='switchfoot httptwitpiccomyzl  awww thats a bummer  you shoulda got david carr of third day to do it d', tokens=['switchfoot', 'httptwitpiccomyzl', '', 'awww', 'thats', 'a', 'bummer', '', 'you', 'shoulda', 'got', 'david', 'carr', 'of', 'third', 'day', 'to', 'do', 'it', 'd'], no_empty=['switchfoot', 'httptwitpiccomyzl', 'awww', 'thats', 'a', 'bummer', 'you', 'shoulda', 'got', 'david', 'carr', 'of', 'third', 'day', 'to', 'do', 'it', 'd'], words_clean=['switchfoot', 'httptwitpiccomyzl', 'awww', 'thats', 'bummer', 'shoulda', 'got', 'david', 'carr', 'third', 'day', 'd'], words_stemmed=['switchfoot', 'httptwitpiccomyzl', 'awww', 'that', 'bummer', 'shoulda', 'got', 'david', 'carr', 'third', 'day', 'd'])"
      ]
     },
     "execution_count": 48,
     "metadata": {},
     "output_type": "execute_result"
    }
   ],
   "source": [
    "locale = spark._jvm.java.util.Locale\n",
    "locale.setDefault(locale.forLanguageTag(\"en-US\"))\n",
    "\n",
    "stemmer = SnowballStemmer(language='english')\n",
    "stemmer_udf = udf(lambda tokens: [stemmer.stem(token) for token in tokens], ArrayType(StringType()))\n",
    "df_stemmed = df_words_no_stopw.withColumn(\"words_stemmed\", stemmer_udf(\"words_clean\"))\n",
    "df_stemmed.head()"
   ]
  },
  {
   "cell_type": "markdown",
   "metadata": {
    "id": "9gfysfyh1xvg"
   },
   "source": [
    "vocab size"
   ]
  },
  {
   "cell_type": "code",
   "execution_count": null,
   "metadata": {
    "id": "A7IiiOtw1z6b"
   },
   "outputs": [],
   "source": []
  },
  {
   "cell_type": "markdown",
   "metadata": {
    "id": "Pwr__BDLvYIT"
   },
   "source": [
    "Đưa cột \"target\" về dạng index"
   ]
  },
  {
   "cell_type": "code",
   "execution_count": 49,
   "metadata": {
    "colab": {
     "base_uri": "https://localhost:8080/"
    },
    "id": "apqbBAjsf6E5",
    "outputId": "854e0a7c-51fe-4eb1-d5d6-6a0aeae4a63b",
    "scrolled": true
   },
   "outputs": [
    {
     "name": "stderr",
     "output_type": "stream",
     "text": [
      "[Stage 63:>                                                         (0 + 1) / 1]\r"
     ]
    },
    {
     "name": "stdout",
     "output_type": "stream",
     "text": [
      "+----------+------+--------------------+--------------------+--------------------+--------------------+--------------------+--------------------+-----+\n",
      "|        id|target|                text|             newtext|              tokens|            no_empty|         words_clean|       words_stemmed|label|\n",
      "+----------+------+--------------------+--------------------+--------------------+--------------------+--------------------+--------------------+-----+\n",
      "|1467810369|     0|@switchfoot http:...|switchfoot httptw...|[switchfoot, http...|[switchfoot, http...|[switchfoot, http...|[switchfoot, http...|  0.0|\n",
      "|1467810672|     0|is upset that he ...|is upset that he ...|[is, upset, that,...|[is, upset, that,...|[upset, cant, upd...|[upset, cant, upd...|  0.0|\n",
      "|1467810917|     0|@Kenichan I dived...|kenichan i dived ...|[kenichan, i, div...|[kenichan, i, div...|[kenichan, dived,...|[kenichan, dive, ...|  0.0|\n",
      "|1467811184|     0|my whole body fee...|my whole body fee...|[my, whole, body,...|[my, whole, body,...|[whole, body, fee...|[whole, bodi, fee...|  0.0|\n",
      "|1467811193|     0|@nationwideclass ...|nationwideclass n...|[nationwideclass,...|[nationwideclass,...|[nationwideclass,...|[nationwideclass,...|  0.0|\n",
      "+----------+------+--------------------+--------------------+--------------------+--------------------+--------------------+--------------------+-----+\n",
      "only showing top 5 rows\n",
      "\n"
     ]
    },
    {
     "name": "stderr",
     "output_type": "stream",
     "text": [
      "23/08/02 23:41:10 WARN PythonUDFRunner: Detected deadlock while completing task 0.0 in stage 63 (TID 80): Attempting to kill Python Worker\n",
      "\r",
      "                                                                                \r"
     ]
    }
   ],
   "source": [
    "label_stringIdx = StringIndexer(inputCol = \"target\", outputCol = \"label\")\n",
    "label_df = label_stringIdx.fit(df_stemmed).transform(df_stemmed)\n",
    "label_df.show(5)"
   ]
  },
  {
   "cell_type": "code",
   "execution_count": 71,
   "metadata": {},
   "outputs": [
    {
     "data": {
      "text/plain": [
       "DataFrame[id: int, target: int, text: string, newtext: string, tokens: array<string>, no_empty: array<string>, words_clean: array<string>, words_stemmed: array<string>, label: double]"
      ]
     },
     "execution_count": 71,
     "metadata": {},
     "output_type": "execute_result"
    }
   ],
   "source": [
    "label_df.sample(False, 0.1, seed=0).limit(1)"
   ]
  },
  {
   "cell_type": "code",
   "execution_count": 50,
   "metadata": {
    "colab": {
     "base_uri": "https://localhost:8080/"
    },
    "id": "GIIlKqOWwEkr",
    "outputId": "a3828efe-167f-451d-912c-3d83cac426a5"
   },
   "outputs": [
    {
     "data": {
      "text/plain": [
       "Row(id=1467810369, target=0, text=\"@switchfoot http://twitpic.com/2y1zl - Awww, that's a bummer.  You shoulda got David Carr of Third Day to do it. ;D\", newtext='switchfoot httptwitpiccomyzl  awww thats a bummer  you shoulda got david carr of third day to do it d', tokens=['switchfoot', 'httptwitpiccomyzl', '', 'awww', 'thats', 'a', 'bummer', '', 'you', 'shoulda', 'got', 'david', 'carr', 'of', 'third', 'day', 'to', 'do', 'it', 'd'], no_empty=['switchfoot', 'httptwitpiccomyzl', 'awww', 'thats', 'a', 'bummer', 'you', 'shoulda', 'got', 'david', 'carr', 'of', 'third', 'day', 'to', 'do', 'it', 'd'], words_clean=['switchfoot', 'httptwitpiccomyzl', 'awww', 'thats', 'bummer', 'shoulda', 'got', 'david', 'carr', 'third', 'day', 'd'], words_stemmed=['switchfoot', 'httptwitpiccomyzl', 'awww', 'that', 'bummer', 'shoulda', 'got', 'david', 'carr', 'third', 'day', 'd'], label=0.0)"
      ]
     },
     "execution_count": 50,
     "metadata": {},
     "output_type": "execute_result"
    }
   ],
   "source": [
    "label_df.head()"
   ]
  },
  {
   "cell_type": "markdown",
   "metadata": {
    "id": "zcDeJtS7BP52"
   },
   "source": [
    "**3. Classification**"
   ]
  },
  {
   "cell_type": "markdown",
   "metadata": {
    "id": "2sorDPd3BVqv"
   },
   "source": [
    "3.1. CountVectorizer + IDF + Logistic Regression"
   ]
  },
  {
   "cell_type": "code",
   "execution_count": 51,
   "metadata": {
    "id": "uUJ4bYgKBO0G"
   },
   "outputs": [],
   "source": [
    "# %%time\n",
    "# vectorizer = CountVectorizer(minDF=2, inputCol=\"words_stemmed\", outputCol=\"cntVec\")\n",
    "# cntvec_df = vectorizer.fit(label_df).transform(label_df)\n",
    "# cntvec_df.show(5)"
   ]
  },
  {
   "cell_type": "code",
   "execution_count": 52,
   "metadata": {
    "id": "lXPEr6A0G6hh"
   },
   "outputs": [],
   "source": [
    "# %%time\n",
    "# idf = IDF(inputCol=\"cntVec\", outputCol=\"idfVec\", minDocFreq=5)\n",
    "# idf_df = idf.fit(cntvec_df).transform(cntvec_df)\n",
    "# idf_df.show(5)"
   ]
  },
  {
   "cell_type": "code",
   "execution_count": 53,
   "metadata": {
    "id": "zOryxczxTRkG"
   },
   "outputs": [],
   "source": [
    "# [train_idf_df, test_idf_df, val] = idf_df.randomSplit([0.1, 0.1, 0.8], seed = 123)"
   ]
  },
  {
   "cell_type": "code",
   "execution_count": 54,
   "metadata": {
    "id": "q3Xr98wEJTC9"
   },
   "outputs": [],
   "source": [
    "# %%time\n",
    "# t1 = time.time()\n",
    "\n",
    "# lr = LogisticRegression(featuresCol=\"idfVec\")\n",
    "# lrModel = lr.fit(train_idf_df)\n",
    "# predictions = lrModel.transform(test_idf_df)\n",
    "\n",
    "# t2 = time.time()\n",
    "# print('Time process Logistic Regression: {0:.2f} seconds'.format(t2-t1) )"
   ]
  },
  {
   "cell_type": "code",
   "execution_count": 55,
   "metadata": {
    "id": "vu2vVW7GUsGk"
   },
   "outputs": [],
   "source": [
    "# evaluator = BinaryClassificationEvaluator(metricName=\"areaUnderROC\")\n",
    "# evaluator.evaluate(predictions)"
   ]
  },
  {
   "cell_type": "code",
   "execution_count": 56,
   "metadata": {
    "id": "up2HVvi-T4qo"
   },
   "outputs": [],
   "source": [
    "# accuracy = predictions.filter(predictions.label == predictions.prediction).count() / float(test_idf_df.count())\n",
    "# accuracy"
   ]
  },
  {
   "cell_type": "markdown",
   "metadata": {
    "id": "VOdOAzKnhsDL"
   },
   "source": [
    "3.2. Word2Vec + Logistic Regression"
   ]
  },
  {
   "cell_type": "code",
   "execution_count": 61,
   "metadata": {
    "colab": {
     "base_uri": "https://localhost:8080/"
    },
    "id": "Brmb_Ie8rcCX",
    "outputId": "7ba02de4-f09f-4b37-ab5c-313d22df67ee"
   },
   "outputs": [
    {
     "name": "stderr",
     "output_type": "stream",
     "text": [
      "                                                                                \r"
     ]
    },
    {
     "name": "stdout",
     "output_type": "stream",
     "text": [
      "CPU times: user 46.3 ms, sys: 38.2 ms, total: 84.5 ms\n",
      "Wall time: 8min 11s\n"
     ]
    }
   ],
   "source": [
    "%%time\n",
    "word2vec = Word2Vec(vectorSize=100, minCount=5, inputCol = \"words_stemmed\", outputCol = \"w2v\", seed = 123)\n",
    "w2v_df = word2vec.fit(label_df).transform(label_df)"
   ]
  },
  {
   "cell_type": "code",
   "execution_count": 62,
   "metadata": {
    "colab": {
     "base_uri": "https://localhost:8080/"
    },
    "id": "l5XJnm6TWaan",
    "outputId": "4fe78af5-d3ae-497a-bf0d-cc67b3683dd0"
   },
   "outputs": [
    {
     "name": "stderr",
     "output_type": "stream",
     "text": [
      "23/08/02 23:54:02 WARN PythonUDFRunner: Detected deadlock while completing task 0.0 in stage 82 (TID 108): Attempting to kill Python Worker\n",
      "                                                                                \r"
     ]
    },
    {
     "data": {
      "text/plain": [
       "Row(id=1467810369, target=0, text=\"@switchfoot http://twitpic.com/2y1zl - Awww, that's a bummer.  You shoulda got David Carr of Third Day to do it. ;D\", newtext='switchfoot httptwitpiccomyzl  awww thats a bummer  you shoulda got david carr of third day to do it d', tokens=['switchfoot', 'httptwitpiccomyzl', '', 'awww', 'thats', 'a', 'bummer', '', 'you', 'shoulda', 'got', 'david', 'carr', 'of', 'third', 'day', 'to', 'do', 'it', 'd'], no_empty=['switchfoot', 'httptwitpiccomyzl', 'awww', 'thats', 'a', 'bummer', 'you', 'shoulda', 'got', 'david', 'carr', 'of', 'third', 'day', 'to', 'do', 'it', 'd'], words_clean=['switchfoot', 'httptwitpiccomyzl', 'awww', 'thats', 'bummer', 'shoulda', 'got', 'david', 'carr', 'third', 'day', 'd'], words_stemmed=['switchfoot', 'httptwitpiccomyzl', 'awww', 'that', 'bummer', 'shoulda', 'got', 'david', 'carr', 'third', 'day', 'd'], label=0.0, w2v=DenseVector([-0.0328, 0.0718, 0.0402, -0.1109, 0.0523, 0.0696, -0.0801, 0.0556, 0.0307, 0.0836, 0.0359, 0.0011, 0.0436, 0.005, 0.0923, 0.0112, -0.0493, -0.091, 0.0058, 0.017, -0.0549, -0.0031, -0.0304, 0.0102, -0.0627, 0.0809, 0.0615, 0.0359, -0.0753, 0.0417, -0.0507, -0.0962, 0.0496, 0.0196, 0.0229, -0.075, -0.0072, 0.1181, 0.0409, -0.0902, -0.0155, 0.0052, 0.039, 0.1208, 0.0791, -0.0293, 0.0553, -0.0204, 0.0276, -0.0314, -0.0159, -0.0389, -0.0172, 0.0019, 0.1101, -0.0468, 0.034, -0.0275, 0.019, -0.0451, 0.1757, -0.0172, 0.0639, -0.0274, -0.0412, -0.0292, 0.0738, -0.0566, 0.0414, -0.0809, 0.0586, -0.0559, 0.0007, 0.0458, -0.0844, 0.001, 0.0875, -0.0536, 0.0488, 0.0459, 0.008, -0.0594, -0.0077, 0.0074, -0.0168, -0.0475, -0.0061, -0.1493, 0.0285, -0.0226, -0.1193, -0.0707, -0.0136, 0.1364, 0.0084, -0.0114, -0.08, -0.0829, -0.0641, -0.0277]))"
      ]
     },
     "execution_count": 62,
     "metadata": {},
     "output_type": "execute_result"
    }
   ],
   "source": [
    "w2v_df.head()"
   ]
  },
  {
   "cell_type": "code",
   "execution_count": 63,
   "metadata": {
    "id": "G-e7U6OiWlP2"
   },
   "outputs": [],
   "source": [
    "[train_w2v_df, test_w2v_df] = w2v_df.randomSplit([0.8, 0.2], seed = 123)"
   ]
  },
  {
   "cell_type": "code",
   "execution_count": 64,
   "metadata": {
    "colab": {
     "base_uri": "https://localhost:8080/"
    },
    "id": "vnett1zIW_pG",
    "outputId": "3cb305d6-4ccf-49f4-e327-e3deec721245"
   },
   "outputs": [
    {
     "name": "stderr",
     "output_type": "stream",
     "text": [
      "23/08/02 23:56:20 WARN MemoryStore: Not enough space to cache rdd_401_0 in memory! (computed 65.0 MiB so far)\n",
      "23/08/02 23:56:20 WARN BlockManager: Persisting block rdd_401_0 to disk instead.\n",
      "23/08/02 23:56:27 WARN MemoryStore: Not enough space to cache rdd_401_0 in memory! (computed 272.9 MiB so far)\n",
      "23/08/02 23:57:04 WARN MemoryStore: Not enough space to cache rdd_401_1 in memory! (computed 113.0 MiB so far)\n",
      "23/08/02 23:57:04 WARN BlockManager: Persisting block rdd_401_1 to disk instead.\n",
      "23/08/02 23:57:09 WARN MemoryStore: Not enough space to cache rdd_401_1 in memory! (computed 272.9 MiB so far)\n",
      "23/08/02 23:57:10 WARN MemoryStore: Not enough space to cache rdd_401_0 in memory! (computed 272.9 MiB so far)\n",
      "23/08/02 23:57:12 WARN MemoryStore: Not enough space to cache rdd_401_1 in memory! (computed 272.9 MiB so far)\n",
      "23/08/02 23:57:13 WARN MemoryStore: Not enough space to cache rdd_401_0 in memory! (computed 272.9 MiB so far)\n",
      "23/08/02 23:57:15 WARN MemoryStore: Not enough space to cache rdd_401_1 in memory! (computed 272.9 MiB so far)\n",
      "23/08/02 23:57:16 WARN MemoryStore: Not enough space to cache rdd_401_0 in memory! (computed 272.9 MiB so far)\n",
      "23/08/02 23:57:18 WARN MemoryStore: Not enough space to cache rdd_401_1 in memory! (computed 272.9 MiB so far)\n",
      "23/08/02 23:57:20 WARN MemoryStore: Not enough space to cache rdd_401_0 in memory! (computed 272.9 MiB so far)\n",
      "23/08/02 23:57:22 WARN MemoryStore: Not enough space to cache rdd_401_1 in memory! (computed 272.9 MiB so far)\n",
      "23/08/02 23:57:23 WARN MemoryStore: Not enough space to cache rdd_401_0 in memory! (computed 272.9 MiB so far)\n",
      "23/08/02 23:57:25 WARN MemoryStore: Not enough space to cache rdd_401_1 in memory! (computed 272.9 MiB so far)\n",
      "23/08/02 23:57:26 WARN MemoryStore: Not enough space to cache rdd_401_0 in memory! (computed 272.9 MiB so far)\n",
      "23/08/02 23:57:28 WARN MemoryStore: Not enough space to cache rdd_401_1 in memory! (computed 272.9 MiB so far)\n",
      "23/08/02 23:57:29 WARN MemoryStore: Not enough space to cache rdd_401_0 in memory! (computed 272.9 MiB so far)\n",
      "23/08/02 23:57:31 WARN MemoryStore: Not enough space to cache rdd_401_1 in memory! (computed 272.9 MiB so far)\n",
      "23/08/02 23:57:33 WARN MemoryStore: Not enough space to cache rdd_401_0 in memory! (computed 272.9 MiB so far)\n",
      "23/08/02 23:57:34 WARN MemoryStore: Not enough space to cache rdd_401_1 in memory! (computed 272.9 MiB so far)\n",
      "23/08/02 23:57:36 WARN MemoryStore: Not enough space to cache rdd_401_0 in memory! (computed 272.9 MiB so far)\n",
      "23/08/02 23:57:38 WARN MemoryStore: Not enough space to cache rdd_401_1 in memory! (computed 272.9 MiB so far)\n",
      "23/08/02 23:57:39 WARN MemoryStore: Not enough space to cache rdd_401_0 in memory! (computed 272.9 MiB so far)\n",
      "23/08/02 23:57:41 WARN MemoryStore: Not enough space to cache rdd_401_1 in memory! (computed 272.9 MiB so far)\n",
      "23/08/02 23:57:42 WARN MemoryStore: Not enough space to cache rdd_401_0 in memory! (computed 272.9 MiB so far)\n",
      "23/08/02 23:57:44 WARN MemoryStore: Not enough space to cache rdd_401_1 in memory! (computed 272.9 MiB so far)\n",
      "23/08/02 23:57:45 WARN MemoryStore: Not enough space to cache rdd_401_0 in memory! (computed 272.9 MiB so far)\n",
      "23/08/02 23:57:47 WARN MemoryStore: Not enough space to cache rdd_401_1 in memory! (computed 272.9 MiB so far)\n",
      "23/08/02 23:57:48 WARN MemoryStore: Not enough space to cache rdd_401_0 in memory! (computed 272.9 MiB so far)\n",
      "23/08/02 23:57:50 WARN MemoryStore: Not enough space to cache rdd_401_1 in memory! (computed 272.9 MiB so far)\n",
      "23/08/02 23:57:51 WARN MemoryStore: Not enough space to cache rdd_401_0 in memory! (computed 272.9 MiB so far)\n",
      "23/08/02 23:57:52 WARN MemoryStore: Not enough space to cache rdd_401_1 in memory! (computed 272.9 MiB so far)\n",
      "23/08/02 23:57:54 WARN MemoryStore: Not enough space to cache rdd_401_0 in memory! (computed 272.9 MiB so far)\n",
      "23/08/02 23:57:56 WARN MemoryStore: Not enough space to cache rdd_401_1 in memory! (computed 272.9 MiB so far)\n",
      "23/08/02 23:57:57 WARN MemoryStore: Not enough space to cache rdd_401_0 in memory! (computed 272.9 MiB so far)\n",
      "23/08/02 23:57:59 WARN MemoryStore: Not enough space to cache rdd_401_1 in memory! (computed 272.9 MiB so far)\n",
      "23/08/02 23:58:00 WARN MemoryStore: Not enough space to cache rdd_401_0 in memory! (computed 272.9 MiB so far)\n",
      "23/08/02 23:58:02 WARN MemoryStore: Not enough space to cache rdd_401_1 in memory! (computed 272.9 MiB so far)\n",
      "23/08/02 23:58:03 WARN MemoryStore: Not enough space to cache rdd_401_0 in memory! (computed 272.9 MiB so far)\n",
      "23/08/02 23:58:05 WARN MemoryStore: Not enough space to cache rdd_401_1 in memory! (computed 272.9 MiB so far)\n",
      "23/08/02 23:58:06 WARN MemoryStore: Not enough space to cache rdd_401_0 in memory! (computed 272.9 MiB so far)\n",
      "23/08/02 23:58:08 WARN MemoryStore: Not enough space to cache rdd_401_1 in memory! (computed 272.9 MiB so far)\n",
      "23/08/02 23:58:09 WARN MemoryStore: Not enough space to cache rdd_401_0 in memory! (computed 272.9 MiB so far)\n",
      "23/08/02 23:58:11 WARN MemoryStore: Not enough space to cache rdd_401_1 in memory! (computed 272.9 MiB so far)\n",
      "23/08/02 23:58:12 WARN MemoryStore: Not enough space to cache rdd_401_0 in memory! (computed 272.9 MiB so far)\n",
      "23/08/02 23:58:14 WARN MemoryStore: Not enough space to cache rdd_401_1 in memory! (computed 272.9 MiB so far)\n",
      "23/08/02 23:58:15 WARN MemoryStore: Not enough space to cache rdd_401_0 in memory! (computed 272.9 MiB so far)\n",
      "23/08/02 23:58:17 WARN MemoryStore: Not enough space to cache rdd_401_1 in memory! (computed 272.9 MiB so far)\n",
      "23/08/02 23:58:18 WARN MemoryStore: Not enough space to cache rdd_401_0 in memory! (computed 272.9 MiB so far)\n",
      "23/08/02 23:58:20 WARN MemoryStore: Not enough space to cache rdd_401_1 in memory! (computed 272.9 MiB so far)\n",
      "23/08/02 23:58:21 WARN MemoryStore: Not enough space to cache rdd_401_0 in memory! (computed 272.9 MiB so far)\n",
      "23/08/02 23:58:23 WARN MemoryStore: Not enough space to cache rdd_401_1 in memory! (computed 272.9 MiB so far)\n",
      "23/08/02 23:58:24 WARN MemoryStore: Not enough space to cache rdd_401_0 in memory! (computed 272.9 MiB so far)\n",
      "23/08/02 23:58:26 WARN MemoryStore: Not enough space to cache rdd_401_1 in memory! (computed 272.9 MiB so far)\n",
      "23/08/02 23:58:27 WARN MemoryStore: Not enough space to cache rdd_401_0 in memory! (computed 272.9 MiB so far)\n",
      "23/08/02 23:58:29 WARN MemoryStore: Not enough space to cache rdd_401_1 in memory! (computed 272.9 MiB so far)\n",
      "23/08/02 23:58:30 WARN MemoryStore: Not enough space to cache rdd_401_0 in memory! (computed 272.9 MiB so far)\n",
      "23/08/02 23:58:32 WARN MemoryStore: Not enough space to cache rdd_401_1 in memory! (computed 272.9 MiB so far)\n",
      "23/08/02 23:58:33 WARN MemoryStore: Not enough space to cache rdd_401_0 in memory! (computed 272.9 MiB so far)\n",
      "23/08/02 23:58:35 WARN MemoryStore: Not enough space to cache rdd_401_1 in memory! (computed 272.9 MiB so far)\n",
      "23/08/02 23:58:36 WARN MemoryStore: Not enough space to cache rdd_401_0 in memory! (computed 272.9 MiB so far)\n",
      "23/08/02 23:58:38 WARN MemoryStore: Not enough space to cache rdd_401_1 in memory! (computed 272.9 MiB so far)\n",
      "23/08/02 23:58:39 WARN MemoryStore: Not enough space to cache rdd_401_0 in memory! (computed 272.9 MiB so far)\n",
      "23/08/02 23:58:41 WARN MemoryStore: Not enough space to cache rdd_401_1 in memory! (computed 272.9 MiB so far)\n",
      "23/08/02 23:58:43 WARN MemoryStore: Not enough space to cache rdd_401_0 in memory! (computed 272.9 MiB so far)\n",
      "23/08/02 23:58:44 WARN MemoryStore: Not enough space to cache rdd_401_1 in memory! (computed 272.9 MiB so far)\n",
      "23/08/02 23:58:46 WARN MemoryStore: Not enough space to cache rdd_401_0 in memory! (computed 272.9 MiB so far)\n",
      "23/08/02 23:58:47 WARN MemoryStore: Not enough space to cache rdd_401_1 in memory! (computed 272.9 MiB so far)\n",
      "23/08/02 23:58:49 WARN MemoryStore: Not enough space to cache rdd_401_0 in memory! (computed 272.9 MiB so far)\n",
      "23/08/02 23:58:51 WARN MemoryStore: Not enough space to cache rdd_401_1 in memory! (computed 272.9 MiB so far)\n",
      "23/08/02 23:58:53 WARN MemoryStore: Not enough space to cache rdd_401_0 in memory! (computed 272.9 MiB so far)\n",
      "23/08/02 23:58:55 WARN MemoryStore: Not enough space to cache rdd_401_1 in memory! (computed 272.9 MiB so far)\n",
      "23/08/02 23:58:56 WARN MemoryStore: Not enough space to cache rdd_401_0 in memory! (computed 272.9 MiB so far)\n",
      "23/08/02 23:58:58 WARN MemoryStore: Not enough space to cache rdd_401_1 in memory! (computed 272.9 MiB so far)\n",
      "23/08/02 23:58:59 WARN MemoryStore: Not enough space to cache rdd_401_0 in memory! (computed 272.9 MiB so far)\n",
      "23/08/02 23:59:01 WARN MemoryStore: Not enough space to cache rdd_401_1 in memory! (computed 272.9 MiB so far)\n",
      "23/08/02 23:59:02 WARN MemoryStore: Not enough space to cache rdd_401_0 in memory! (computed 272.9 MiB so far)\n",
      "23/08/02 23:59:04 WARN MemoryStore: Not enough space to cache rdd_401_1 in memory! (computed 272.9 MiB so far)\n",
      "                                                                                \r"
     ]
    },
    {
     "name": "stdout",
     "output_type": "stream",
     "text": [
      "Time process Logistic Regression: 303.44 seconds\n",
      "CPU times: user 117 ms, sys: 58.1 ms, total: 175 ms\n",
      "Wall time: 5min 3s\n"
     ]
    }
   ],
   "source": [
    "%%time\n",
    "t1 = time.time()\n",
    "\n",
    "lrModel_w2v = LogisticRegression(featuresCol=\"w2v\").fit(train_w2v_df)\n",
    "predictions_w2v = lrModel_w2v.transform(test_w2v_df)\n",
    "\n",
    "t2 = time.time()\n",
    "print('Time process Logistic Regression: {0:.2f} seconds'.format(t2-t1) )"
   ]
  },
  {
   "cell_type": "code",
   "execution_count": 65,
   "metadata": {
    "colab": {
     "base_uri": "https://localhost:8080/"
    },
    "id": "rNQpQnOqdCNh",
    "outputId": "adcceba7-b791-4121-e717-7e2ac39d2999"
   },
   "outputs": [
    {
     "name": "stderr",
     "output_type": "stream",
     "text": [
      "                                                                                \r"
     ]
    },
    {
     "data": {
      "text/plain": [
       "0.6510055694515825"
      ]
     },
     "execution_count": 65,
     "metadata": {},
     "output_type": "execute_result"
    }
   ],
   "source": [
    "evaluator = BinaryClassificationEvaluator(metricName=\"areaUnderROC\")\n",
    "evaluator.evaluate(predictions_w2v)\n",
    "--0.6510055694515825"
   ]
  },
  {
   "cell_type": "code",
   "execution_count": 66,
   "metadata": {
    "colab": {
     "base_uri": "https://localhost:8080/"
    },
    "id": "WAlDHBq5dei_",
    "outputId": "46605d15-db85-4317-e5a6-04eee94275c7"
   },
   "outputs": [
    {
     "name": "stderr",
     "output_type": "stream",
     "text": [
      "                                                                                \r"
     ]
    },
    {
     "data": {
      "text/plain": [
       "0.7011376709702161"
      ]
     },
     "execution_count": 66,
     "metadata": {},
     "output_type": "execute_result"
    }
   ],
   "source": [
    "accuracy = predictions_w2v.filter(predictions_w2v.label == predictions_w2v.prediction).count() / float(test_w2v_df.count())\n",
    "accuracy"
   ]
  },
  {
   "cell_type": "markdown",
   "metadata": {},
   "source": [
    "Twitter request"
   ]
  },
  {
   "cell_type": "code",
   "execution_count": 81,
   "metadata": {},
   "outputs": [],
   "source": [
    "import twitter\n",
    "consumer_key = \"Z7dcDib4WaY3ObOztPNFWlRWF\"\n",
    "consumer_secret = \"X8zMTelnyy8lA2wHXgDGEVDJ9AYlSm154ubwAzhWdtut57Cgiw\"\n",
    "\n",
    "access_token = \"104798552-AyQLnMXTMPcZOd8k2tol8VizaNkGhg0Xq5FOdiBe\"\n",
    "access_token_secret = \"YbUyPukqBjPSReWWAIklOYk3TcKzXWtJKt92h9AbAm53g\"\n",
    "\n",
    "api = twitter.Api(consumer_key=consumer_key,\n",
    "                  consumer_secret=consumer_secret,\n",
    "                  access_token_key=access_token,\n",
    "                  access_token_secret=access_token_secret)"
   ]
  },
  {
   "cell_type": "code",
   "execution_count": 100,
   "metadata": {},
   "outputs": [
    {
     "name": "stdout",
     "output_type": "stream",
     "text": [
      "There may have been an issue with the consumer_key or consumer_secret you entered.\n"
     ]
    },
    {
     "name": "stderr",
     "output_type": "stream",
     "text": [
      "Traceback (most recent call last):\n",
      "  File \"/tmp/ipykernel_48939/2192947765.py\", line 25, in <cell line: 24>\n",
      "    fetch_response = oauth.fetch_request_token(request_token_url)\n",
      "  File \"/var/root/miniconda3/lib/python3.8/site-packages/requests_oauthlib/oauth1_session.py\", line 287, in fetch_request_token\n",
      "    token = self._fetch_token(url, **request_kwargs)\n",
      "  File \"/var/root/miniconda3/lib/python3.8/site-packages/requests_oauthlib/oauth1_session.py\", line 386, in _fetch_token\n",
      "    self._populate_attributes(token)\n",
      "  File \"/var/root/miniconda3/lib/python3.8/site-packages/requests_oauthlib/oauth1_session.py\", line 355, in _populate_attributes\n",
      "    raise TokenMissing(\n",
      "requests_oauthlib.oauth1_session.TokenMissing: Response does not contain a token: {}\n"
     ]
    }
   ],
   "source": [
    "from requests_oauthlib import OAuth1Session\n",
    "import os\n",
    "import json\n",
    "import traceback\n",
    "\n",
    "# client_id = \"ZVZVOVdQUGtpX0hPQlk1cUg0T1o6MTpjaQ\"\n",
    "# client_secrect = \"29XZzBC1PlNVbyGjMRJ0gXdocYu6b8eq5_UVwmGrTjG7RTPemX\"\n",
    "\n",
    "consumer_key = \"M7MtZySaFlSAXAVyPDgBi37Tu\"\n",
    "consumer_secret = \"lwtlAyT4xFHONQZhCHzGUJhC2DQ9Sx19FWg6HU5UdHj1lqPH95\"\n",
    "# bearer_token = \"AAAAAAAAAAAAAAAAAAAAAFzTpAEAAAAA3bICFfNe5M5dSAc5kvkxIwJTn6s%3DUdnBLNXc6rAVBGFScdMegc4ZOBUYhgH3lD993fxl119hKgkRQ8\"\n",
    "\n",
    "# User fields are adjustable, options include:\n",
    "# created_at, description, entities, id, location, name,\n",
    "# pinned_tweet_id, profile_image_url, protected,\n",
    "# public_metrics, url, username, verified, and withheld\n",
    "# fields = \"created_at,description\"\n",
    "# params = {\"user.fields\": fields}\n",
    "\n",
    "# Get request token\n",
    "request_token_url = 'https://api.twitter.com/oauth/request_token'\n",
    "oauth = OAuth1Session(consumer_key, client_secret=consumer_secret)\n",
    "\n",
    "try:\n",
    "    fetch_response = oauth.fetch_request_token(request_token_url)\n",
    "    print(fetch_response)\n",
    "except ValueError:\n",
    "    traceback.print_exc()\n",
    "    print(\n",
    "        \"There may have been an issue with the consumer_key or consumer_secret you entered.\"\n",
    "    )\n",
    "\n",
    "# resource_owner_key = fetch_response.get(\"oauth_token\")\n",
    "# resource_owner_secret = fetch_response.get(\"oauth_token_secret\")\n",
    "# print(\"Got OAuth token: %s\" % resource_owner_key)\n",
    "\n",
    "# # # Get authorization\n",
    "# base_authorization_url = \"https://api.twitter.com/oauth/authorize\"\n",
    "# authorization_url = oauth.authorization_url(base_authorization_url)\n",
    "# print(\"Please go here and authorize: %s\" % authorization_url)\n",
    "# verifier = input(\"Paste the PIN here: \")\n",
    "\n",
    "# # Get the access token\n",
    "# access_token_url = \"https://api.twitter.com/oauth/access_token\"\n",
    "# oauth = OAuth1Session(\n",
    "#     consumer_key,\n",
    "#     client_secret=consumer_secret,\n",
    "#     resource_owner_key=resource_owner_key,\n",
    "#     resource_owner_secret=resource_owner_secret,\n",
    "#     verifier=verifier,\n",
    "# )\n",
    "# oauth_tokens = oauth.fetch_access_token(access_token_url)\n",
    "\n",
    "# access_token = \"104798552-1LxJEtu9BtwGUNvXBimgjpwqgvpqU8937qa4qNkS\"\n",
    "# access_token_secret = \"2qkQzPRkmfmiRQTqSDazIfVTl3wdNZj44OCdjVTjXkqhL\"\n",
    "\n",
    "# # # Make the request\n",
    "# oauth = OAuth1Session(\n",
    "#     client_key=consumer_key,\n",
    "#     client_secret=consumer_secret,\n",
    "#     resource_owner_key=access_token,\n",
    "#     resource_owner_secret=access_token_secret,\n",
    "# )\n",
    "\n",
    "# response = oauth.get(\"https://api.twitter.com/2/users/me\", params=params)\n",
    "\n",
    "# if response.status_code != 200:\n",
    "#     raise Exception(\n",
    "#         \"Request returned an error: {} {}\".format(response.status_code, response.text)\n",
    "#     )\n",
    "\n",
    "# print(\"Response code: {}\".format(response.status_code))\n",
    "\n",
    "# json_response = response.json()\n",
    "\n",
    "# print(json.dumps(json_response, indent=4, sort_keys=True))"
   ]
  },
  {
   "cell_type": "code",
   "execution_count": 75,
   "metadata": {},
   "outputs": [
    {
     "name": "stdout",
     "output_type": "stream",
     "text": [
      "403\n"
     ]
    },
    {
     "ename": "Exception",
     "evalue": "Request returned an error: 403 {\n  \"title\": \"Unsupported Authentication\",\n  \"detail\": \"Authenticating with OAuth 2.0 Application-Only is forbidden for this endpoint.  Supported authentication types are [OAuth 1.0a User Context, OAuth 2.0 User Context].\",\n  \"type\": \"https://api.twitter.com/2/problems/unsupported-authentication\",\n  \"status\": 403\n}",
     "output_type": "error",
     "traceback": [
      "\u001B[0;31m---------------------------------------------------------------------------\u001B[0m",
      "\u001B[0;31mException\u001B[0m                                 Traceback (most recent call last)",
      "Input \u001B[0;32mIn [75]\u001B[0m, in \u001B[0;36m<cell line: 1>\u001B[0;34m()\u001B[0m\n\u001B[0;32m----> 1\u001B[0m \u001B[43mmain\u001B[49m\u001B[43m(\u001B[49m\u001B[43m)\u001B[49m\n",
      "Input \u001B[0;32mIn [74]\u001B[0m, in \u001B[0;36mmain\u001B[0;34m()\u001B[0m\n\u001B[1;32m     48\u001B[0m url \u001B[38;5;241m=\u001B[39m create_url()\n\u001B[1;32m     49\u001B[0m params \u001B[38;5;241m=\u001B[39m get_params()\n\u001B[0;32m---> 50\u001B[0m json_response \u001B[38;5;241m=\u001B[39m \u001B[43mconnect_to_endpoint\u001B[49m\u001B[43m(\u001B[49m\u001B[43murl\u001B[49m\u001B[43m,\u001B[49m\u001B[43m \u001B[49m\u001B[43mparams\u001B[49m\u001B[43m)\u001B[49m\n\u001B[1;32m     51\u001B[0m \u001B[38;5;28mprint\u001B[39m(json\u001B[38;5;241m.\u001B[39mdumps(json_response, indent\u001B[38;5;241m=\u001B[39m\u001B[38;5;241m4\u001B[39m, sort_keys\u001B[38;5;241m=\u001B[39m\u001B[38;5;28;01mTrue\u001B[39;00m))\n",
      "Input \u001B[0;32mIn [74]\u001B[0m, in \u001B[0;36mconnect_to_endpoint\u001B[0;34m(url, params)\u001B[0m\n\u001B[1;32m     37\u001B[0m \u001B[38;5;28mprint\u001B[39m(response\u001B[38;5;241m.\u001B[39mstatus_code)\n\u001B[1;32m     38\u001B[0m \u001B[38;5;28;01mif\u001B[39;00m response\u001B[38;5;241m.\u001B[39mstatus_code \u001B[38;5;241m!=\u001B[39m \u001B[38;5;241m200\u001B[39m:\n\u001B[0;32m---> 39\u001B[0m     \u001B[38;5;28;01mraise\u001B[39;00m \u001B[38;5;167;01mException\u001B[39;00m(\n\u001B[1;32m     40\u001B[0m         \u001B[38;5;124m\"\u001B[39m\u001B[38;5;124mRequest returned an error: \u001B[39m\u001B[38;5;132;01m{}\u001B[39;00m\u001B[38;5;124m \u001B[39m\u001B[38;5;132;01m{}\u001B[39;00m\u001B[38;5;124m\"\u001B[39m\u001B[38;5;241m.\u001B[39mformat(\n\u001B[1;32m     41\u001B[0m             response\u001B[38;5;241m.\u001B[39mstatus_code, response\u001B[38;5;241m.\u001B[39mtext\n\u001B[1;32m     42\u001B[0m         )\n\u001B[1;32m     43\u001B[0m     )\n\u001B[1;32m     44\u001B[0m \u001B[38;5;28;01mreturn\u001B[39;00m response\u001B[38;5;241m.\u001B[39mjson()\n",
      "\u001B[0;31mException\u001B[0m: Request returned an error: 403 {\n  \"title\": \"Unsupported Authentication\",\n  \"detail\": \"Authenticating with OAuth 2.0 Application-Only is forbidden for this endpoint.  Supported authentication types are [OAuth 1.0a User Context, OAuth 2.0 User Context].\",\n  \"type\": \"https://api.twitter.com/2/problems/unsupported-authentication\",\n  \"status\": 403\n}"
     ]
    }
   ],
   "source": [
    "main()"
   ]
  },
  {
   "cell_type": "code",
   "execution_count": null,
   "metadata": {},
   "outputs": [],
   "source": []
  }
 ],
 "metadata": {
  "colab": {
   "gpuType": "T4",
   "machine_shape": "hm",
   "provenance": []
  },
  "kernelspec": {
   "display_name": "Python 3 (ipykernel)",
   "language": "python",
   "name": "python3"
  },
  "language_info": {
   "codemirror_mode": {
    "name": "ipython",
    "version": 3
   },
   "file_extension": ".py",
   "mimetype": "text/x-python",
   "name": "python",
   "nbconvert_exporter": "python",
   "pygments_lexer": "ipython3",
   "version": "3.8.13"
  }
 },
 "nbformat": 4,
 "nbformat_minor": 1
}
