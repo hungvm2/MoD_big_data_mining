{
 "cells": [
  {
   "cell_type": "code",
   "execution_count": 1,
   "metadata": {
    "colab": {
     "base_uri": "https://localhost:8080/"
    },
    "id": "5E3owmC9E2gA",
    "outputId": "07daad8c-ad6c-4c68-a66d-b69c05d38dfb"
   },
   "outputs": [
    {
     "name": "stdout",
     "output_type": "stream",
     "text": [
      "Mounted at /content/drive\n"
     ]
    }
   ],
   "source": [
    "from google.colab import drive\n",
    "drive.mount('/content/drive')"
   ]
  },
  {
   "cell_type": "code",
   "execution_count": 2,
   "metadata": {
    "colab": {
     "base_uri": "https://localhost:8080/"
    },
    "id": "35vWPu92FK59",
    "outputId": "1b7e7b5e-95aa-4e41-a3ff-00f43512bd69"
   },
   "outputs": [
    {
     "name": "stdout",
     "output_type": "stream",
     "text": [
      "/bin/bash: line 1: nvidia-smi: command not found\n"
     ]
    }
   ],
   "source": [
    "!nvidia-smi"
   ]
  },
  {
   "cell_type": "code",
   "execution_count": 3,
   "metadata": {
    "id": "Sleac40vFhJW"
   },
   "outputs": [],
   "source": [
    "import os\n",
    "os.chdir('/content/drive/MyDrive/Twitter')"
   ]
  },
  {
   "cell_type": "code",
   "execution_count": 4,
   "metadata": {
    "id": "sLYbb0O2dhlD"
   },
   "outputs": [],
   "source": [
    "# !apt-get install openjdk-8-jdk-headless\n",
    "# !wget https://dlcdn.apache.org/spark/spark-3.4.1/spark-3.4.1-bin-hadoop3.tgz\n",
    "# !tar xf spark-3.4.1-bin-hadoop3.tgz"
   ]
  },
  {
   "cell_type": "code",
   "execution_count": 5,
   "metadata": {
    "colab": {
     "base_uri": "https://localhost:8080/"
    },
    "id": "xWgbINsAdkwL",
    "outputId": "39a95083-ec2f-49fc-f3d1-e7fa8834bb78"
   },
   "outputs": [
    {
     "name": "stdout",
     "output_type": "stream",
     "text": [
      "Collecting pyspark\n",
      "  Downloading pyspark-3.4.1.tar.gz (310.8 MB)\n",
      "\u001b[2K     \u001b[90m━━━━━━━━━━━━━━━━━━━━━━━━━━━━━━━━━━━━━━━\u001b[0m \u001b[32m310.8/310.8 MB\u001b[0m \u001b[31m3.0 MB/s\u001b[0m eta \u001b[36m0:00:00\u001b[0m\n",
      "\u001b[?25h  Preparing metadata (setup.py) ... \u001b[?25l\u001b[?25hdone\n",
      "Requirement already satisfied: py4j==0.10.9.7 in /usr/local/lib/python3.10/dist-packages (from pyspark) (0.10.9.7)\n",
      "Building wheels for collected packages: pyspark\n",
      "  Building wheel for pyspark (setup.py) ... \u001b[?25l\u001b[?25hdone\n",
      "  Created wheel for pyspark: filename=pyspark-3.4.1-py2.py3-none-any.whl size=311285397 sha256=f444f2aa838b32a5127d0b12b3ea75fb638c8345b22d6e5f653a6c9f59d5b6ce\n",
      "  Stored in directory: /root/.cache/pip/wheels/0d/77/a3/ff2f74cc9ab41f8f594dabf0579c2a7c6de920d584206e0834\n",
      "Successfully built pyspark\n",
      "Installing collected packages: pyspark\n",
      "Successfully installed pyspark-3.4.1\n"
     ]
    }
   ],
   "source": [
    "!pip install pyspark"
   ]
  },
  {
   "cell_type": "code",
   "execution_count": 6,
   "metadata": {
    "id": "zhdYaI2LdsS7"
   },
   "outputs": [],
   "source": [
    "# !pip install findspark"
   ]
  },
  {
   "cell_type": "code",
   "execution_count": 30,
   "metadata": {
    "id": "sv0_ljpud5T8"
   },
   "outputs": [],
   "source": [
    "# import findspark\n",
    "# findspark.init()\n",
    "import pyspark as ps\n",
    "import warnings\n",
    "from pyspark.sql import SQLContext\n",
    "from pyspark.sql.types import *\n",
    "from pyspark.sql import SparkSession\n",
    "from pyspark.sql.functions import *\n",
    "# import pandas as pd\n",
    "# import pyspark.pandas as ps\n",
    "import numpy as np\n",
    "import time\n",
    "\n",
    "from pyspark.ml.feature import Tokenizer, RegexTokenizer, StopWordsRemover, CountVectorizer, IDF, StringIndexer, Word2Vec\n",
    "from nltk.stem.snowball import SnowballStemmer\n",
    "\n",
    "from pyspark.ml.classification import LogisticRegression\n",
    "\n",
    "from pyspark.ml.evaluation import BinaryClassificationEvaluator"
   ]
  },
  {
   "cell_type": "markdown",
   "metadata": {
    "id": "sok3x6qSwdWm"
   },
   "source": [
    "**1. Đọc dữ liệu vào**"
   ]
  },
  {
   "cell_type": "code",
   "execution_count": 8,
   "metadata": {
    "colab": {
     "base_uri": "https://localhost:8080/"
    },
    "id": "jC_oUkX5d9y7",
    "outputId": "b0664f76-9698-4ffb-fbd9-926f7e77fa5d"
   },
   "outputs": [
    {
     "name": "stdout",
     "output_type": "stream",
     "text": [
      "root\n",
      " |-- target: integer (nullable = true)\n",
      " |-- id: integer (nullable = true)\n",
      " |-- date: date (nullable = true)\n",
      " |-- flag: string (nullable = true)\n",
      " |-- user: string (nullable = true)\n",
      " |-- text: string (nullable = true)\n",
      "\n"
     ]
    }
   ],
   "source": [
    "spark = SparkSession.builder\\\n",
    "        .master(\"local\")\\\n",
    "        .appName('Sentiment Analysis')\\\n",
    "        .getOrCreate()\n",
    "\n",
    "schema = StructType([\\\n",
    "                    StructField(\"target\", IntegerType(), True),\\\n",
    "                    StructField(\"id\", IntegerType(), True),\\\n",
    "                    StructField(\"date\", DateType(), True),\\\n",
    "                    StructField(\"flag\", StringType(), True),\\\n",
    "                    StructField(\"user\", StringType(), True),\\\n",
    "                    StructField(\"text\", StringType(), True)])\n",
    "\n",
    "df = spark.read.csv('training.1600000.processed.noemoticon.csv', sep=',', header=False, schema=schema)\n",
    "df.printSchema()"
   ]
  },
  {
   "cell_type": "code",
   "execution_count": 10,
   "metadata": {
    "colab": {
     "base_uri": "https://localhost:8080/"
    },
    "id": "ZfXA9GI5n5lv",
    "outputId": "ea62fa7b-56a9-42d7-ae07-5102b89c33b8"
   },
   "outputs": [
    {
     "name": "stdout",
     "output_type": "stream",
     "text": [
      "+------+----------+----+--------+---------------+--------------------+\n",
      "|target|        id|date|    flag|           user|                text|\n",
      "+------+----------+----+--------+---------------+--------------------+\n",
      "|     0|1467810369|null|NO_QUERY|_TheSpecialOne_|@switchfoot http:...|\n",
      "|     0|1467810672|null|NO_QUERY|  scotthamilton|is upset that he ...|\n",
      "|     0|1467810917|null|NO_QUERY|       mattycus|@Kenichan I dived...|\n",
      "|     0|1467811184|null|NO_QUERY|        ElleCTF|my whole body fee...|\n",
      "|     0|1467811193|null|NO_QUERY|         Karoli|@nationwideclass ...|\n",
      "+------+----------+----+--------+---------------+--------------------+\n",
      "only showing top 5 rows\n",
      "\n"
     ]
    }
   ],
   "source": [
    "df.show(5)"
   ]
  },
  {
   "cell_type": "code",
   "execution_count": 11,
   "metadata": {
    "colab": {
     "base_uri": "https://localhost:8080/"
    },
    "id": "5B7liih-oSzR",
    "outputId": "788055cc-3cb7-4ada-ba64-71fa75d2266c"
   },
   "outputs": [
    {
     "data": {
      "text/plain": [
       "Row(target=0, id=1467810369, date=None, flag='NO_QUERY', user='_TheSpecialOne_', text=\"@switchfoot http://twitpic.com/2y1zl - Awww, that's a bummer.  You shoulda got David Carr of Third Day to do it. ;D\")"
      ]
     },
     "execution_count": 11,
     "metadata": {},
     "output_type": "execute_result"
    }
   ],
   "source": [
    "df.head()"
   ]
  },
  {
   "cell_type": "markdown",
   "metadata": {
    "id": "5RjXSgyRwkMs"
   },
   "source": [
    "**2. Tiền xử lý**"
   ]
  },
  {
   "cell_type": "code",
   "execution_count": 12,
   "metadata": {
    "colab": {
     "base_uri": "https://localhost:8080/"
    },
    "id": "m8-0x8QQooKC",
    "outputId": "cc88000b-cf54-40c9-b33d-1e4aacae8d86"
   },
   "outputs": [
    {
     "name": "stdout",
     "output_type": "stream",
     "text": [
      "+------+------+\n",
      "|target| count|\n",
      "+------+------+\n",
      "|     4|800000|\n",
      "|     0|800000|\n",
      "+------+------+\n",
      "\n"
     ]
    }
   ],
   "source": [
    "df.groupBy(\"target\").count().show()"
   ]
  },
  {
   "cell_type": "markdown",
   "metadata": {
    "id": "zu3XkCYuspL_"
   },
   "source": [
    "=> như vậy dữ liệu tích cực (target=4) và tiêu cực (target=0) là cân bằng, không có trường hợp nào target null cần xử lý"
   ]
  },
  {
   "cell_type": "markdown",
   "metadata": {
    "id": "UeRA0lVZxose"
   },
   "source": [
    "Chỉ quan tâm đến các trường dùng để đánh giá (id, target, text)"
   ]
  },
  {
   "cell_type": "code",
   "execution_count": 13,
   "metadata": {
    "id": "nnVTKDsJuEc2"
   },
   "outputs": [],
   "source": [
    "df1 = df.select(\"id\", \"target\", \"text\")"
   ]
  },
  {
   "cell_type": "code",
   "execution_count": 14,
   "metadata": {
    "colab": {
     "base_uri": "https://localhost:8080/"
    },
    "id": "PSnxfvkxzUGC",
    "outputId": "cbe03691-02a1-416c-84b2-ab807de1ca22"
   },
   "outputs": [
    {
     "data": {
      "text/plain": [
       "Row(target=0, id=1467810369, date=None, flag='NO_QUERY', user='_TheSpecialOne_', text=\"@switchfoot http://twitpic.com/2y1zl - Awww, that's a bummer.  You shoulda got David Carr of Third Day to do it. ;D\", newtext=' switchfoot http   twitpic com  y zl   awww  that s a bummer   you shoulda got david carr of third day to do it   d')"
      ]
     },
     "execution_count": 14,
     "metadata": {},
     "output_type": "execute_result"
    }
   ],
   "source": [
    "df_clean = df.select('*', (lower(regexp_replace('text', \"[^a-zA-Z\\\\s]\", \" \")).alias('newtext')))\n",
    "df_clean.head()"
   ]
  },
  {
   "cell_type": "code",
   "execution_count": 15,
   "metadata": {
    "colab": {
     "base_uri": "https://localhost:8080/"
    },
    "id": "39Tx7p7Gzizq",
    "outputId": "3886d307-1b6a-431f-e53f-8075146022b5"
   },
   "outputs": [
    {
     "data": {
      "text/plain": [
       "Row(target=0, id=1467810369, date=None, flag='NO_QUERY', user='_TheSpecialOne_', text=\"@switchfoot http://twitpic.com/2y1zl - Awww, that's a bummer.  You shoulda got David Carr of Third Day to do it. ;D\", newtext=' switchfoot http   twitpic com  y zl   awww  that s a bummer   you shoulda got david carr of third day to do it   d', tokens=['', 'switchfoot', 'http', '', '', 'twitpic', 'com', '', 'y', 'zl', '', '', 'awww', '', 'that', 's', 'a', 'bummer', '', '', 'you', 'shoulda', 'got', 'david', 'carr', 'of', 'third', 'day', 'to', 'do', 'it', '', '', 'd'])"
      ]
     },
     "execution_count": 15,
     "metadata": {},
     "output_type": "execute_result"
    }
   ],
   "source": [
    "tokenizer = Tokenizer(inputCol='newtext', outputCol='tokens')\n",
    "df_tokens = tokenizer.transform(df_clean)\n",
    "df_tokens.head()"
   ]
  },
  {
   "cell_type": "code",
   "execution_count": 17,
   "metadata": {
    "colab": {
     "base_uri": "https://localhost:8080/"
    },
    "id": "2lPp-qrj9qR_",
    "outputId": "48128cfd-134d-4973-bbd1-db856ea1eb73"
   },
   "outputs": [
    {
     "data": {
      "text/plain": [
       "Row(target=0, id=1467810369, date=None, flag='NO_QUERY', user='_TheSpecialOne_', text=\"@switchfoot http://twitpic.com/2y1zl - Awww, that's a bummer.  You shoulda got David Carr of Third Day to do it. ;D\", newtext=' switchfoot http   twitpic com  y zl   awww  that s a bummer   you shoulda got david carr of third day to do it   d', tokens=['', 'switchfoot', 'http', '', '', 'twitpic', 'com', '', 'y', 'zl', '', '', 'awww', '', 'that', 's', 'a', 'bummer', '', '', 'you', 'shoulda', 'got', 'david', 'carr', 'of', 'third', 'day', 'to', 'do', 'it', '', '', 'd'], words_clean=['', 'switchfoot', 'http', '', '', 'twitpic', 'com', '', 'y', 'zl', '', '', 'awww', '', 'bummer', '', '', 'shoulda', 'got', 'david', 'carr', 'third', 'day', '', '', 'd'])"
      ]
     },
     "execution_count": 17,
     "metadata": {},
     "output_type": "execute_result"
    }
   ],
   "source": [
    "remover = StopWordsRemover(inputCol=\"tokens\", outputCol=\"words_clean\")\n",
    "df_words_no_stopw = remover.transform(df_tokens)\n",
    "df_words_no_stopw.head()"
   ]
  },
  {
   "cell_type": "markdown",
   "metadata": {
    "id": "kGR4thgc-CzD"
   },
   "source": [
    "Đưa các token về dạng từ gốc"
   ]
  },
  {
   "cell_type": "code",
   "execution_count": 18,
   "metadata": {
    "colab": {
     "base_uri": "https://localhost:8080/"
    },
    "id": "u7mnUHm29wix",
    "outputId": "d14d2981-1677-49bf-c991-0880b285a131"
   },
   "outputs": [
    {
     "data": {
      "text/plain": [
       "Row(target=0, id=1467810369, date=None, flag='NO_QUERY', user='_TheSpecialOne_', text=\"@switchfoot http://twitpic.com/2y1zl - Awww, that's a bummer.  You shoulda got David Carr of Third Day to do it. ;D\", newtext=' switchfoot http   twitpic com  y zl   awww  that s a bummer   you shoulda got david carr of third day to do it   d', tokens=['', 'switchfoot', 'http', '', '', 'twitpic', 'com', '', 'y', 'zl', '', '', 'awww', '', 'that', 's', 'a', 'bummer', '', '', 'you', 'shoulda', 'got', 'david', 'carr', 'of', 'third', 'day', 'to', 'do', 'it', '', '', 'd'], words_clean=['', 'switchfoot', 'http', '', '', 'twitpic', 'com', '', 'y', 'zl', '', '', 'awww', '', 'bummer', '', '', 'shoulda', 'got', 'david', 'carr', 'third', 'day', '', '', 'd'], words_stemmed=['', 'switchfoot', 'http', '', '', 'twitpic', 'com', '', 'y', 'zl', '', '', 'awww', '', 'bummer', '', '', 'shoulda', 'got', 'david', 'carr', 'third', 'day', '', '', 'd'])"
      ]
     },
     "execution_count": 18,
     "metadata": {},
     "output_type": "execute_result"
    }
   ],
   "source": [
    "locale = spark._jvm.java.util.Locale\n",
    "locale.setDefault(locale.forLanguageTag(\"en-US\"))\n",
    "\n",
    "stemmer = SnowballStemmer(language='english')\n",
    "stemmer_udf = udf(lambda tokens: [stemmer.stem(token) for token in tokens], ArrayType(StringType()))\n",
    "df_stemmed = df_words_no_stopw.withColumn(\"words_stemmed\", stemmer_udf(\"words_clean\"))\n",
    "df_stemmed.head()"
   ]
  },
  {
   "cell_type": "markdown",
   "metadata": {
    "id": "9gfysfyh1xvg"
   },
   "source": [
    "vocab size"
   ]
  },
  {
   "cell_type": "code",
   "execution_count": 18,
   "metadata": {
    "id": "A7IiiOtw1z6b"
   },
   "outputs": [],
   "source": []
  },
  {
   "cell_type": "markdown",
   "metadata": {
    "id": "Pwr__BDLvYIT"
   },
   "source": [
    "Đưa cột \"target\" về dạng index"
   ]
  },
  {
   "cell_type": "code",
   "execution_count": 19,
   "metadata": {
    "colab": {
     "base_uri": "https://localhost:8080/"
    },
    "id": "apqbBAjsf6E5",
    "outputId": "854e0a7c-51fe-4eb1-d5d6-6a0aeae4a63b"
   },
   "outputs": [
    {
     "name": "stdout",
     "output_type": "stream",
     "text": [
      "+------+----------+----+--------+---------------+--------------------+--------------------+--------------------+--------------------+--------------------+-----+\n",
      "|target|        id|date|    flag|           user|                text|             newtext|              tokens|         words_clean|       words_stemmed|label|\n",
      "+------+----------+----+--------+---------------+--------------------+--------------------+--------------------+--------------------+--------------------+-----+\n",
      "|     0|1467810369|null|NO_QUERY|_TheSpecialOne_|@switchfoot http:...| switchfoot http ...|[, switchfoot, ht...|[, switchfoot, ht...|[, switchfoot, ht...|  0.0|\n",
      "|     0|1467810672|null|NO_QUERY|  scotthamilton|is upset that he ...|is upset that he ...|[is, upset, that,...|[upset, update, f...|[upset, updat, fa...|  0.0|\n",
      "|     0|1467810917|null|NO_QUERY|       mattycus|@Kenichan I dived...| kenichan i dived...|[, kenichan, i, d...|[, kenichan, dive...|[, kenichan, dive...|  0.0|\n",
      "|     0|1467811184|null|NO_QUERY|        ElleCTF|my whole body fee...|my whole body fee...|[my, whole, body,...|[whole, body, fee...|[whole, bodi, fee...|  0.0|\n",
      "|     0|1467811193|null|NO_QUERY|         Karoli|@nationwideclass ...| nationwideclass ...|[, nationwideclas...|[, nationwideclas...|[, nationwideclas...|  0.0|\n",
      "+------+----------+----+--------+---------------+--------------------+--------------------+--------------------+--------------------+--------------------+-----+\n",
      "only showing top 5 rows\n",
      "\n"
     ]
    }
   ],
   "source": [
    "label_stringIdx = StringIndexer(inputCol = \"target\", outputCol = \"label\")\n",
    "label_df = label_stringIdx.fit(df_stemmed).transform(df_stemmed)\n",
    "label_df.show(5)"
   ]
  },
  {
   "cell_type": "code",
   "execution_count": 20,
   "metadata": {
    "colab": {
     "base_uri": "https://localhost:8080/"
    },
    "id": "GIIlKqOWwEkr",
    "outputId": "a3828efe-167f-451d-912c-3d83cac426a5"
   },
   "outputs": [
    {
     "data": {
      "text/plain": [
       "Row(target=0, id=1467810369, date=None, flag='NO_QUERY', user='_TheSpecialOne_', text=\"@switchfoot http://twitpic.com/2y1zl - Awww, that's a bummer.  You shoulda got David Carr of Third Day to do it. ;D\", newtext=' switchfoot http   twitpic com  y zl   awww  that s a bummer   you shoulda got david carr of third day to do it   d', tokens=['', 'switchfoot', 'http', '', '', 'twitpic', 'com', '', 'y', 'zl', '', '', 'awww', '', 'that', 's', 'a', 'bummer', '', '', 'you', 'shoulda', 'got', 'david', 'carr', 'of', 'third', 'day', 'to', 'do', 'it', '', '', 'd'], words_clean=['', 'switchfoot', 'http', '', '', 'twitpic', 'com', '', 'y', 'zl', '', '', 'awww', '', 'bummer', '', '', 'shoulda', 'got', 'david', 'carr', 'third', 'day', '', '', 'd'], words_stemmed=['', 'switchfoot', 'http', '', '', 'twitpic', 'com', '', 'y', 'zl', '', '', 'awww', '', 'bummer', '', '', 'shoulda', 'got', 'david', 'carr', 'third', 'day', '', '', 'd'], label=0.0)"
      ]
     },
     "execution_count": 20,
     "metadata": {},
     "output_type": "execute_result"
    }
   ],
   "source": [
    "label_df.head()"
   ]
  },
  {
   "cell_type": "markdown",
   "metadata": {
    "id": "zcDeJtS7BP52"
   },
   "source": [
    "**3. Classification**"
   ]
  },
  {
   "cell_type": "markdown",
   "metadata": {
    "id": "2sorDPd3BVqv"
   },
   "source": [
    "3.1. CountVectorizer + IDF + Logistic Regression"
   ]
  },
  {
   "cell_type": "code",
   "execution_count": null,
   "metadata": {
    "id": "uUJ4bYgKBO0G"
   },
   "outputs": [],
   "source": [
    "# %%time\n",
    "# vectorizer = CountVectorizer(minDF=2, inputCol=\"words_stemmed\", outputCol=\"cntVec\")\n",
    "# cntvec_df = vectorizer.fit(label_df).transform(label_df)\n",
    "# cntvec_df.show(5)"
   ]
  },
  {
   "cell_type": "code",
   "execution_count": null,
   "metadata": {
    "id": "lXPEr6A0G6hh"
   },
   "outputs": [],
   "source": [
    "# %%time\n",
    "# idf = IDF(inputCol=\"cntVec\", outputCol=\"idfVec\", minDocFreq=5)\n",
    "# idf_df = idf.fit(cntvec_df).transform(cntvec_df)\n",
    "# idf_df.show(5)"
   ]
  },
  {
   "cell_type": "code",
   "execution_count": null,
   "metadata": {
    "id": "zOryxczxTRkG"
   },
   "outputs": [],
   "source": [
    "# [train_idf_df, test_idf_df, val] = idf_df.randomSplit([0.1, 0.1, 0.8], seed = 123)"
   ]
  },
  {
   "cell_type": "code",
   "execution_count": null,
   "metadata": {
    "id": "q3Xr98wEJTC9"
   },
   "outputs": [],
   "source": [
    "# %%time\n",
    "# t1 = time.time()\n",
    "\n",
    "# lr = LogisticRegression(featuresCol=\"idfVec\")\n",
    "# lrModel = lr.fit(train_idf_df)\n",
    "# predictions = lrModel.transform(test_idf_df)\n",
    "\n",
    "# t2 = time.time()\n",
    "# print('Time process Logistic Regression: {0:.2f} seconds'.format(t2-t1) )"
   ]
  },
  {
   "cell_type": "code",
   "execution_count": null,
   "metadata": {
    "id": "vu2vVW7GUsGk"
   },
   "outputs": [],
   "source": [
    "# evaluator = BinaryClassificationEvaluator(metricName=\"areaUnderROC\")\n",
    "# evaluator.evaluate(predictions)"
   ]
  },
  {
   "cell_type": "code",
   "execution_count": null,
   "metadata": {
    "id": "up2HVvi-T4qo"
   },
   "outputs": [],
   "source": [
    "# accuracy = predictions.filter(predictions.label == predictions.prediction).count() / float(test_idf_df.count())\n",
    "# accuracy"
   ]
  },
  {
   "cell_type": "markdown",
   "metadata": {
    "id": "VOdOAzKnhsDL"
   },
   "source": [
    "3.2. Word2Vec + Logistic Regression"
   ]
  },
  {
   "cell_type": "code",
   "execution_count": 39,
   "metadata": {
    "colab": {
     "base_uri": "https://localhost:8080/"
    },
    "id": "Brmb_Ie8rcCX",
    "outputId": "7ba02de4-f09f-4b37-ab5c-313d22df67ee"
   },
   "outputs": [
    {
     "name": "stdout",
     "output_type": "stream",
     "text": [
      "CPU times: user 4.02 s, sys: 616 ms, total: 4.63 s\n",
      "Wall time: 12min 16s\n"
     ]
    }
   ],
   "source": [
    "%%time\n",
    "word2vec = Word2Vec(vectorSize=6, minCount=2, inputCol = \"words_stemmed\", outputCol = \"w2v\", seed = 123)\n",
    "w2v_df = word2vec.fit(label_df).transform(label_df)"
   ]
  },
  {
   "cell_type": "code",
   "execution_count": 40,
   "metadata": {
    "colab": {
     "base_uri": "https://localhost:8080/"
    },
    "id": "l5XJnm6TWaan",
    "outputId": "4fe78af5-d3ae-497a-bf0d-cc67b3683dd0"
   },
   "outputs": [
    {
     "data": {
      "text/plain": [
       "Row(target=0, id=1467810369, date=None, flag='NO_QUERY', user='_TheSpecialOne_', text=\"@switchfoot http://twitpic.com/2y1zl - Awww, that's a bummer.  You shoulda got David Carr of Third Day to do it. ;D\", newtext=' switchfoot http   twitpic com  y zl   awww  that s a bummer   you shoulda got david carr of third day to do it   d', tokens=['', 'switchfoot', 'http', '', '', 'twitpic', 'com', '', 'y', 'zl', '', '', 'awww', '', 'that', 's', 'a', 'bummer', '', '', 'you', 'shoulda', 'got', 'david', 'carr', 'of', 'third', 'day', 'to', 'do', 'it', '', '', 'd'], words_clean=['', 'switchfoot', 'http', '', '', 'twitpic', 'com', '', 'y', 'zl', '', '', 'awww', '', 'bummer', '', '', 'shoulda', 'got', 'david', 'carr', 'third', 'day', '', '', 'd'], words_stemmed=['', 'switchfoot', 'http', '', '', 'twitpic', 'com', '', 'y', 'zl', '', '', 'awww', '', 'bummer', '', '', 'shoulda', 'got', 'david', 'carr', 'third', 'day', '', '', 'd'], label=0.0, w2v=DenseVector([-0.1022, -0.4858, 0.0172, 0.2835, -0.0733, -0.3055]))"
      ]
     },
     "execution_count": 40,
     "metadata": {},
     "output_type": "execute_result"
    }
   ],
   "source": [
    "w2v_df.head()"
   ]
  },
  {
   "cell_type": "code",
   "execution_count": 41,
   "metadata": {
    "id": "G-e7U6OiWlP2"
   },
   "outputs": [],
   "source": [
    "[train_w2v_df, test_w2v_df] = w2v_df.randomSplit([0.8, 0.2], seed = 123)"
   ]
  },
  {
   "cell_type": "code",
   "execution_count": 42,
   "metadata": {
    "colab": {
     "base_uri": "https://localhost:8080/"
    },
    "id": "vnett1zIW_pG",
    "outputId": "3cb305d6-4ccf-49f4-e327-e3deec721245"
   },
   "outputs": [
    {
     "name": "stdout",
     "output_type": "stream",
     "text": [
      "Time process Logistic Regression: 360.01 seconds\n",
      "CPU times: user 2.04 s, sys: 252 ms, total: 2.29 s\n",
      "Wall time: 6min\n"
     ]
    }
   ],
   "source": [
    "%%time\n",
    "t1 = time.time()\n",
    "\n",
    "lrModel_w2v = LogisticRegression(featuresCol=\"w2v\").fit(train_w2v_df)\n",
    "predictions_w2v = lrModel_w2v.transform(test_w2v_df)\n",
    "\n",
    "t2 = time.time()\n",
    "print('Time process Logistic Regression: {0:.2f} seconds'.format(t2-t1) )"
   ]
  },
  {
   "cell_type": "code",
   "execution_count": 43,
   "metadata": {
    "colab": {
     "base_uri": "https://localhost:8080/"
    },
    "id": "rNQpQnOqdCNh",
    "outputId": "adcceba7-b791-4121-e717-7e2ac39d2999"
   },
   "outputs": [
    {
     "data": {
      "text/plain": [
       "0.6510055694515825"
      ]
     },
     "execution_count": 43,
     "metadata": {},
     "output_type": "execute_result"
    }
   ],
   "source": [
    "evaluator = BinaryClassificationEvaluator(metricName=\"areaUnderROC\")\n",
    "evaluator.evaluate(predictions_w2v)\n",
    "--0.6510055694515825"
   ]
  },
  {
   "cell_type": "code",
   "execution_count": 44,
   "metadata": {
    "colab": {
     "base_uri": "https://localhost:8080/"
    },
    "id": "WAlDHBq5dei_",
    "outputId": "46605d15-db85-4317-e5a6-04eee94275c7"
   },
   "outputs": [
    {
     "data": {
      "text/plain": [
       "0.6397333690836589"
      ]
     },
     "execution_count": 44,
     "metadata": {},
     "output_type": "execute_result"
    }
   ],
   "source": [
    "accuracy = predictions_w2v.filter(predictions_w2v.label == predictions_w2v.prediction).count() / float(test_w2v_df.count())\n",
    "accuracy"
   ]
  }
 ],
 "metadata": {
  "colab": {
   "gpuType": "T4",
   "machine_shape": "hm",
   "provenance": []
  },
  "kernelspec": {
   "display_name": "Python 3 (ipykernel)",
   "language": "python",
   "name": "python3"
  },
  "language_info": {
   "codemirror_mode": {
    "name": "ipython",
    "version": 3
   },
   "file_extension": ".py",
   "mimetype": "text/x-python",
   "name": "python",
   "nbconvert_exporter": "python",
   "pygments_lexer": "ipython3",
   "version": "3.8.13"
  }
 },
 "nbformat": 4,
 "nbformat_minor": 1
}
